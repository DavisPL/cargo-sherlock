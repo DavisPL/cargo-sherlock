{
 "cells": [
  {
   "cell_type": "code",
   "execution_count": null,
   "metadata": {},
   "outputs": [
    {
     "name": "stdout",
     "output_type": "stream",
     "text": [
      "Loaded crates from CSV: ['nanohtml2text', 'nanohttp', 'nanoid', 'nanoid-dictionary', 'nanoid-wasm', 'nanoid_cli', 'nanoimage', 'nanoir', 'nanokit', 'nanoleaf', 'nanoly', 'nanom', 'nanom-derive', 'nanomsg', 'nanomsg-sys', 'nanopass', 'nanopow-rs', 'nanopre', 'nanopub', 'pic2lcd', 'pic2txt', 'pic32-config-sector', 'pic32-hal', 'pic32mx2xx', 'pic32mx470', 'pic32mx567', 'pic8259', 'pic8259_simple', 'pic8259_x86', 'pica', 'picahq', 'picam', 'pican', 'picard', 'picard-core', 'picasso-core', 'picat', 'piccolo', 'piccolo-util', 'crate-pro', 'crate-publish-test', 'crate-publish-test-foo', 'crate-published', 'crate-race', 'crate-redeem-in-kind', 'crate-root', 'crate-sample-pdaj', 'crate-settings', 'crate-starter', 'crate-template', 'crate-test-20220118', 'crate-test-bolt', 'crate-test-xxx', 'crate-token', 'crate-version', 'crate-version-experiment', 'crate-web', 'crate2bib', 'lmdb-rs', 'lmdb-rs-m', 'lmdb-sys', 'lmdb-sys2', 'lmdb-zero', 'lmfu', 'lmgpt', 'lminc', 'lmk', 'lml', 'lmml', 'lmml-cli', 'lmml-parser', 'lmnkjgkj-std-backtrace-anyhow', 'lmntal-language-server', 'lmntalc', 'lmql', 'lms', 'lms-signature', 'lms_lib', 'photon-http', 'photon-indexer', 'photon-rs', 'photon_decode', 'photon_garden_obsidian', 'photondb', 'photondb-engine', 'photondb-tools', 'photonic', 'photonic-audio', 'photonic-dynamic', 'photonic-dynamic-runner', 'photonic-effects', 'photonic-interface-cli', 'photonic-interface-grpc', 'photonic-interface-grpc-client', 'photonic-interface-grpc-proto', 'photonic-interface-mqtt', 'photonic-interface-restore', 'photonic-lua', 'yew-struct-component', 'yew-struct-component-macro', 'yew-style', 'yew-style-in-rs', 'yew-style-in-rs-core', 'yew-style-in-rs-macro', 'yew-table', 'yew-template', 'yew-tincture', 'yew-transition-group', 'yew-ui', 'yew-unocss-transformer', 'yew-utils', 'yew-vdom-gen', 'yew-virtual-scroller', 'yew-virtualized', 'yew-websocket', 'yew-webtransport', 'yew_assets', 'yew_audio', 'xrpl_api', 'xrpl_binary_codec', 'xrpl_cli', 'xrpl_http_client', 'xrpl_sdk_jsonrpc', 'xrpl_sdk_ws', 'xrpl_types', 'xrpl_ws_client', 'xrs', 'xrt', 'xrtsp', 'xrun', 'xrunits', 'xrust', 'xs', 'xs-api', 'xs-channel', 'xs-lib', 'xs233', 'xs233-sys', 'upstream', 'upstream-module', 'upstream-ontologist', 'upsun', 'upt', 'upt-please', 'uptest', 'uptest-cli', 'uptic', 'uptime', 'uptime_kuma_client', 'uptime_kuma_pusher', 'uptime_lib', 'uptimer', 'uption', 'upto', 'uptown_funk', 'uptown_funk_macro', 'uptrace', 'uptu_libs', 'sc-service-test', 'sc-simnode', 'sc-state-db', 'sc-statement-store', 'sc-storage-monitor', 'sc-sync-state-rpc', 'sc-sysinfo', 'sc-tracing', 'sc-tracing-proc-macro', 'sc-transaction-graph', 'sc-transaction-pool', 'sc-transaction-pool-api', 'sc-utils', 'sc16is752', 'sc2-macro', 'sc2-proc-macro', 'sc2-proto', 'sc2-proxy', 'bellande_rust_import', 'bellande_step', 'bellandeos_file_system_test', 'bellare-micali', 'bellboy', 'bellemere', 'bellframe', 'bellhop', 'bellhop-auth-dummy', 'bellhop-auth-header', 'bellhop-cli', 'bellhop-client', 'bellhop-demo', 'bellhop-hook-jenkins', 'bellissimo_auth0', 'bellman', 'bellman-keccak256', 'bellman_ce', 'bellos', 'bellpepper', 'diskinfo', 'diskio', 'diskit', 'disklru', 'diskmap', 'disko', 'diskonaut', 'diskotech', 'diskplan', 'diskplan-config', 'diskplan-filesystem', 'diskplan-schema', 'diskplan-traversal', 'diskqueue', 'disks', 'diskscan', 'diskspace', 'diskspace_insight', 'disktest', 'disktest-lib', 'rscontainer', 'rscope', 'rscp', 'rscpi', 'rscribe', 'rscript', 'rscripter', 'rscrypt', 'rscs', 'rscv', 'rscx', 'rscx-macros', 'rscx-mdx', 'rscx-web-macros', 'rsd', 'rsdate', 'rsdb', 'rsdbc', 'rsdbc-core', 'rsdbc-mysql', 'gwasm-api', 'gwasm-dispatcher', 'gwasm-instrument', 'gwasmi', 'gwasmi_core', 'gwd-backend-firefox', 'gwdiff', 'gweather-sys', 'gweiyser', 'gwipt', 'gwmp-mux', 'gwordle', 'gworld', 'gwv', 'gwy15-common', 'gwyh', 'gx', 'gx21m15', 'gxccd', 'gxci', 'pkg-macros', 'pkg-types', 'pkg-utils', 'pkg-version', 'pkg-version-impl', 'pkg-version-parser', 'pkg1', 'pkg2', 'pkg6dev', 'pkg_compile_time', 'pkg_impl', 'pkg_manager', 'pkgar', 'pkgar-core', 'pkgar-keys', 'pkgar-repo', 'pkgbob', 'pkgbuild', 'plot_interface', 'plotapi', 'plotcap', 'plotchart', 'ploteria', 'plotfx', 'plotka', 'plotlars', 'plotlib', 'plotly', 'plotly-fork', 'plotly_derive', 'plotly_kaleido', 'plotly_orca', 'plotpoint', 'plotpy', 'plotrs', 'plotsweep', 'oldwin-vc-ltl5', 'oldwin-yy-thunks', 'ole', 'ole32-sys', 'oleaut32-sys', 'oled', 'oled_shmoled', 'olekit', 'olha', 'oli', 'oli-tui', 'olibs724-service', 'oliframe', 'olimex-stm32-p107', 'olin', 'olinker', 'olio', 'olis_string', 'olivarius-art', 'self-rust-tokenize', 'self-rust-tokenize-derive', 'self-signed-cert', 'self_cell', 'self_encryption', 'self_sdk', 'self_service', 'self_update', 'self_update_danger_no_ssl_verify', 'selfe-arc', 'selfe-config', 'selfe-runtime', 'selfe-start', 'selfe-sys', 'selfie', 'selfish', 'selfref', 'selfserv-daemon', 'selfsimilar', 'selfstack', 'ucd-data', 'ucd-generate', 'ucd-parse', 'ucd-raw', 'ucd-trie', 'ucd-util', 'ucelofka', 'ucf', 'ucfirst', 'ucg', 'uchan', 'uchardet', 'uchardet-sys', 'uchimizu', 'uchr', 'uchrono', 'uchu', 'uci', 'uci-parser', 'uci_rs', 'eodhd_rs', 'eodhistoricaldata_api', 'eoe', 'eoflint', 'eol', 'eolib', 'eom', 'eon', 'eon-rs', 'eonil_apple_oslog', 'eons', 'eopl', 'eopsin', 'eorst', 'eos', 'eos-eapi', 'eos-s3', 'eos-tz', 'eos-tzdata', 'veruna-data', 'veruna-kernel', 'verus', 'verusfmt', 'verust', 'verver', 'vervolg', 'very-bad-error-propagation', 'very-trash-cli', 'very_basic_crate', 'very_primitive_tables', 'very_simple_2d', 'very_simple_2d_core', 'very_simple_trie', 'veryfast', 'veryfi', 'migrations_internals', 'migrations_macros', 'migrator', 'migratour', 'migres', 'mih-rs', 'miho', 'miho_derive', 'mii', 'miio-proto', 'mijia', 'mijia-homie', 'mijit', 'mik32-rt', 'mik32-rt-macros', 'mik32v2-pac', 'mika', 'mikado', 'mikan-rs', 'mikasa-utils', 'iap-jwt', 'iapi', 'iapiab', 'iapp_doc_test', 'iaq-core', 'iarapi-rs', 'iargs', 'iars', 'ias', 'iasc', 'iascar', 'iastconvert', 'iasthk', 'iat', 'iata-types', 'iata_bcbp', 'iay', 'ib', 'bevy_koto', 'bevy_kwai_interactive_live', 'bevy_la_mesa', 'bevy_landmass', 'bevy_lazy_prefabs', 'bevy_ldtk', 'bevy_ldtk_asset', 'bevy_leat', 'bevy_level', 'bevy_libgdx_atlas', 'bevy_library', 'bevy_life', 'bevy_light_2d', 'bevy_light_field', 'bevy_lighting', 'bevy_lightspeed2d', 'bevy_lightspeed3d', 'bevy_lightspeed4d', 'bevy_lightyear', 'dangerous_option', 'dangit', 'dango', 'dango-core', 'dango-music-player', 'dango-tui', 'daniel_crate', 'danielfns', 'danielq_art', 'daniels_basic_math', 'dankboi', 'danmu2ass', 'danmuji', 'dano', 'dantalian', 'dante-cli', 'dante-control-rs', 'danu', 'danube-client', 'danube-core', 'deallocate-zeroed', 'deam', 'dean_minigrep', 'deanonro', 'dear', 'dearbitrary', 'dearbitrary_derive', 'deary', 'deasync', 'death', 'death_god_logging_tool', 'deathframe', 'deathrip', 'deb', 'deb-architectures', 'deb-control', 'deb-libsolv-resolver', 'deb-rs', 'deb-rust', 'deb-version', 'rust_caching', 'rust_calendar_parser', 'rust_cards', 'rust_cargo_test', 'rust_cascade', 'rust_cast', 'rust_cfg_parser', 'rust_chacha20', 'rust_ci', 'rust_class', 'rust_clear', 'rust_cli', 'rust_client', 'rust_closure', 'rust_clue_solver_2', 'rust_cn', 'rust_code_organization', 'rust_code_visualizer', 'rust_coinlive', 'rust_combinatorics', 'nenya-sentinel', 'neo', 'neo-babylon', 'neo-crypto', 'neo-email', 'neo-mime', 'neo-mime-macro', 'neo-mime-parse', 'neo-sync', 'neo-web3', 'neo3', 'neo4j', 'neo4j-cli', 'neo4j_cypher', 'neo4j_testcontainers', 'neo4rs-macros', 'neo_trinkey', 'neobirth', 'solana-sys-tuner', 'solana-system-client', 'solana-system-instruction', 'solana-system-interface', 'solana-system-program', 'solana-system-transaction', 'solana-sysvar', 'solana-sysvar-id', 'solana-test', 'solana-test-client', 'solana-test-utils', 'solana-test-validator', 'solana-thin-client', 'solana-time-utils', 'solana-timings', 'solana-tls-utils', 'solana-token-api', 'solana-token-program', 'solana-tokens', 'solana-tps-client', 'moonramp-core', 'moonramp-encryption', 'moonramp-entity', 'moonramp-gateway', 'moonramp-http', 'moonramp-lunar', 'moonramp-lunar-core', 'moonramp-lunar-macro', 'moonramp-migration', 'moonramp-program', 'moonramp-program-rpc', 'moonramp-registry', 'moonramp-rpc', 'moonramp-sale', 'moonramp-sale-rpc', 'moonramp-wallet', 'moonramp-wallet-rpc', 'moonsdk', 'moonshine', 'crudcrate', 'crudcrate-derive', 'crude', 'crude-profiler', 'crude_cache', 'crudite', 'crudkit', 'crudx', 'cruet', 'crufst', 'cruiser', 'cruiser_derive', 'crulz', 'crum', 'crumb', 'crumble', 'crumble_ci', 'crumbles', 'crumsort', 'crunch', 'nu_plugin_ws', 'nu_plugin_x509', 'nu_plugin_xpath', 'nuage', 'nuance', 'nub', 'nuban', 'nuban_rust', 'nube', 'nubls', 'nuc1xx', 'nucgen', 'nuclear', 'nuclear-router', 'nuclei', 'nuclei-attributes', 'nucleic', 'nucleic-acid', 'nucleic-acids', 'nucleide', 'disarray-core', 'disarray-derive', 'disarray-ledger', 'disarray-macros', 'disarray-network', 'disarray-runtime', 'disas', 'disasm', 'disasm-core', 'disasm-e2k', 'disasm-gen', 'disasm-riscv', 'disasm-test', 'disasm-x86', 'disasm6502', 'disasm_x64', 'disassemble', 'disc', 'disc-bot', 'disc-derive', 'arduino_mkrzero', 'arduino_nano33iot', 'arduino_nano_connect', 'arduinors', 'are', 'are_we_touching', 'area-db', 'area_crate', 'area_func', 'area_function', 'areaportal2d', 'arecibo', 'aredis', 'areion', 'arel', 'arel-macros', 'arel_macro', 'arelith_combat_simulator', 'aren_alloc', 'arena-alloc', 'air-execution-info-collector', 'air-interpreter-cid', 'air-interpreter-data', 'air-interpreter-interface', 'air-interpreter-sede', 'air-interpreter-signatures', 'air-interpreter-value', 'air-interpreter-wasm', 'air-interpreter-wasm_branch_release', 'air-interpreter-wasm_ci_fix_version_increment', 'air-interpreter-wasm_crate_release', 'air-interpreter-wasm_fix', 'air-interpreter-wasm_fold_iterable', 'air-interpreter-wasm_get_rid_current_peer_id', 'air-interpreter-wasm_jvalue_flatten', 'air-interpreter-wasm_logger-i32', 'air-interpreter-wasm_new_it_types', 'air-interpreter-wasm_new_stepper_outcome', 'air-interpreter-wasm_prerelease', 'air-interpreter-wasm_security_tetraplets_reborn', 'aws-sdk-arczonalshift', 'aws-sdk-artifact', 'aws-sdk-athena', 'aws-sdk-auditmanager', 'aws-sdk-autoscaling', 'aws-sdk-autoscalingplans', 'aws-sdk-b2bi', 'aws-sdk-backup', 'aws-sdk-backupgateway', 'aws-sdk-backupsearch', 'aws-sdk-backupstorage', 'aws-sdk-batch', 'aws-sdk-bcmdataexports', 'aws-sdk-bcmpricingcalculator', 'aws-sdk-bedrock', 'aws-sdk-bedrockagent', 'aws-sdk-bedrockagentruntime', 'aws-sdk-bedrockdataautomation', 'aws-sdk-bedrockdataautomationruntime', 'aws-sdk-bedrockruntime', 'mdbook-tabs', 'mdbook-tag', 'mdbook-tagger', 'mdbook-tailor', 'mdbook-tailwindcss', 'mdbook-templates', 'mdbook-tera', 'mdbook-tera-backend', 'mdbook-tex', 'mdbook-theme', 'mdbook-to-example', 'mdbook-to-github-wiki', 'mdbook-toc', 'mdbook-tocjs', 'mdbook-tools', 'mdbook-trace', 'mdbook-transcheck', 'mdbook-translation', 'theater', 'theatre', 'theattyr', 'thebakery', 'theban_db', 'theban_db_interface', 'theban_db_server', 'theban_interval_tree', 'theban_pass', 'thebook', 'theca', 'theclicker', 'thecocktaildb-rs', 'theforce', 'theframework', 'thefunland', 'thefunlib', 'thegarii', 'thegraph', 'thegraph-client-subgraphs', 'naoki_test_publish', 'naom', 'nap', 'napa', 'napali', 'napchart', 'naphtha', 'naphtha-proc-macro', 'napi-build', 'napi-build-ohos', 'napi-calm-down', 'napi-derive-backend-ohos', 'napi-derive-ohos', 'napi-h', 'napi-ohos', 'napi-package-template', 'napi-rs', 'drs-0x01', 'drsh4dow_testing_mini_crate_that_do_nothing', 'drt-chain-scenario-format', 'drt-chain-vm', 'drt-chain-vm-executor', 'drt-price-aggregator-sc', 'drt-sc', 'drt-sc-codec', 'drt-sc-codec-derive', 'drt-sc-derive', 'drt-sc-meta', 'drt-sc-meta-lib', 'drt-sc-modules', 'drt-sc-scenario', 'drt-sc-snippets', 'drt-sc-wasm-adapter', 'drt-sdk', 'drt-tools', 'drt-wrewa-swap-sc', 'drteeth', 'plain_path', 'plain_trie', 'plainjson', 'plaintalk', 'plaintext', 'plaixt', 'plaixt-core', 'plamo', 'plan', 'plan9', 'plan9_asm', 'plan9whack', 'planar', 'planc', 'planc-common', 'planc-frontend', 'planc-protocol', 'planck_ecs', 'planck_ecs_bundle', 'planck_game_features', 'flexer', 'flexflow', 'flexflow-core', 'flexflow-server', 'flexgen', 'flexgrid', 'flexi-parse', 'flexi_config', 'flexi_func', 'flexi_func_declarative', 'flexi_logger', 'flexi_logger_datadog', 'flexi_logger_rotate_writer', 'flexi_syslog', 'flexiber', 'flexiber_derive', 'flexible-hyper-server-tls', 'flexible-io', 'flexible-locks', 'flexible-locks_derive', 'geohash-rs', 'geohash-tools', 'geohash_gps', 'geohasher', 'geohashing', 'geohashrust', 'geoint', 'geoip', 'geoip-api', 'geoip-cli', 'geoip-http', 'geoip-rs', 'geoip-sys', 'geoip2', 'geoip2-city', 'geoip2-codegen', 'geoiplocation', 'geoipsed', 'geojson', 'emscripten-functions-sys', 'emscripten-sys', 'emscripten-val', 'emscripten-val-sys', 'emscripten_main_loop', 'emsdk', 'emsend', 'emseries', 'emstr', 'emu', 'emu-audio', 'emu-audio-types', 'emu-cli', 'emu-core-audio-driver', 'emu-runner', 'emu6502', 'emu6809', 'emu_core', 'emu_driver', 'emu_glsl', 'diatomic-waker', 'diazene', 'dib', 'dibi', 'dic', 'dic-server', 'dice', 'dice-bag', 'dice-command-parser', 'dice-me', 'dice-roll', 'dice-roller', 'dice_forge', 'dicebag', 'dicebear', 'dicecloud_sheet_printer', 'diced', 'diced-py', 'dicedb-rs', 'dicegen', 'agave-librapay-api', 'agave-loader-v4-program', 'agave-local-cluster', 'agave-logger', 'agave-lualoader', 'agave-measure', 'agave-memory-management', 'agave-merkle-tree', 'agave-metrics', 'agave-move-loader-api', 'agave-move-loader-program', 'agave-native-loader', 'agave-net-utils', 'agave-netutil', 'agave-nohash-hasher', 'agave-noop', 'agave-noop-program', 'agave-notifier', 'agave-ownable', 'agave-perf', 'solana-idl-converter', 'solana-include-idl', 'solana-include-idl-cli', 'solana-indexer', 'solana-inflation', 'solana-inline-spl', 'solana-install', 'solana-instruction', 'solana-instructions-sysvar', 'solana-invoke', 'solana-jonc-program-counter', 'solana-jonc-program-counter-cli', 'solana-jonc-program-counter-client', 'solana-json', 'solana-jsonrpc-core', 'solana-jsonrpc-http-server', 'solana-jsonrpc-macros', 'solana-jsonrpc-pubsub', 'solana-jsonrpc-server-utils', 'solana-jsonrpc-tcp-server', 'rarathon', 'rarbg_api', 'rarc', 'rare', 'rarena', 'rarena-allocator', 'rarg', 'rargs', 'rargsxd', 'rarity', 'rarrow', 'rart-macros', 'rart-rs', 'ras', 'ras_auth', 'ras_service', 'rasc', 'rascal', 'rascal-scheme', 'rascal_bytecode', 'irmaseal-curve', 'irmatch', 'irmin', 'iro', 'iro-cli', 'iroga', 'iroh', 'iroh-api', 'iroh-base', 'iroh-bitswap', 'iroh-blake3', 'iroh-blobs', 'iroh-bytes', 'iroh-car', 'iroh-cli', 'iroh-dns-server', 'iroh-docs', 'iroh-doctor', 'iroh-embed', 'betting', 'betty', 'between', 'between-us', 'beul', 'bevier', 'bevior_tree', 'bevis', 'bevis-derive', 'bevis-strobe', 'bevm', 'bevnet', 'bevoids', 'bevsn', 'bevy-aabb-instancing', 'bevy-aabb-instancing-011', 'bevy-add-events-macro', 'bevy-alt-ui-navigation-lite', 'bevy-animated-text', 'dalek-ff-group-mirror', 'dalek-rangeproofs', 'daleks', 'daleth_lsp', 'dalfs', 'dali', 'dalia', 'dalloriam-cloud-client', 'dalloriam-cloud-protocol', 'dalvik', 'dam', 'damascus', 'damaya', 'dameng-helper', 'damians_custom_datetime_parser', 'daml', 'indexmap-nostd', 'indexmap-rmw', 'indexmenow', 'indexnow', 'indexor', 'indexrs', 'indexset', 'indexsort', 'indextree', 'indextree-macros', 'indextree-ng', 'indextreemap', 'indexvec', 'indi', 'indi-client', 'indi-rs', 'india', 'indicate', 'indicatif', 'indicatif-log-bridge', 'waynest-gen', 'waynest-macros', 'waynetest', 'waynova', 'wayout', 'wayplover', 'waypwr', 'wayrs-client', 'wayrs-core', 'wayrs-cursor', 'wayrs-egl', 'wayrs-proto-parser']\n"
     ]
    }
   ],
   "source": [
    "import os\n",
    "import re\n",
    "import csv\n",
    "import requests\n",
    "\n",
    "# === CONFIGURATION ===\n",
    "# Path to the CSV file containing the 500 crate names.\n",
    "crates_csv = \"random1000_crates.csv\"\n",
    "\n",
    "# Directory containing the tool output files.\n",
    "reports_dir = \"/Users/hassnain/Desktop/oopsla/cargo-sherlock/evaluation/rq3/\"\n",
    "\n",
    "# Output CSV file to create.\n",
    "output_csv = \"filtered_crates.csv\"\n",
    "\n",
    "# Base URL for checking presence on lib.rs\n",
    "lib_rs_base = \"https://lib.rs/crate/\"\n",
    "\n",
    "# === STEP 1: Load the crates from the CSV, skipping the header row ===\n",
    "crates_list = []\n",
    "with open(crates_csv, newline='') as csvfile:\n",
    "    reader = csv.reader(csvfile)\n",
    "    next(reader)  # Skip header row\n",
    "    for row in reader:\n",
    "        if row and row[0].strip():\n",
    "            crates_list.append(row[0].strip())\n",
    "\n",
    "print(\"Loaded crates from CSV:\", crates_list)\n",
    "\n",
    "# === STEP 2: Process each report file in the given directory ===\n",
    "results = []\n",
    "for filename in os.listdir(reports_dir):\n",
    "    file_path = os.path.join(reports_dir, filename)\n",
    "    # Skip if not a file\n",
    "    if not os.path.isfile(file_path):\n",
    "        continue\n",
    "\n",
    "    with open(file_path, 'r') as f:\n",
    "        content = f.read()\n",
    "\n",
    "    # Extract the full crate name from a header line like:\n",
    "    # \"Analysis Report for bellande_rust_import-0.0.1\"\n",
    "    match = re.search(r'Analysis Report for (.+)', content)\n",
    "    if not match:\n",
    "        continue\n",
    "    full_crate = match.group(1).strip()\n",
    "\n",
    "    # Remove version suffix if present (assuming a pattern like -0.0.1)\n",
    "    match_version = re.match(r'^(.*)-(\\d+\\.\\d+\\.\\d+)$', full_crate)\n",
    "    if match_version:\n",
    "        crate_base = match_version.group(1)\n",
    "    else:\n",
    "        crate_base = full_crate\n",
    "\n",
    "    # Do not filter any crates—process all reports regardless of CSV membership.\n",
    "    # Extract the severity label (e.g., \"Severity Label: CRITICAL\")\n",
    "    match_label = re.search(r'Severity Label:\\s*(\\S+)', content)\n",
    "    severity = match_label.group(1).strip() if match_label else \"UNKNOWN\"\n",
    "\n",
    "    # === STEP 3: Check if the crate appears on lib.rs ===\n",
    "    lib_rs_url = f\"{lib_rs_base}{crate_base}\"\n",
    "    try:\n",
    "        response = requests.get(lib_rs_url)\n",
    "        on_lib_rs = \"Yes\" if response.status_code == 200 else \"No\"\n",
    "    except Exception as e:\n",
    "        on_lib_rs = \"No\"\n",
    "\n",
    "    results.append([full_crate, severity, on_lib_rs])\n",
    "\n",
    "# === STEP 4: Write the results to a new CSV file ===\n",
    "with open(output_csv, 'w', newline='') as csvfile:\n",
    "    writer = csv.writer(csvfile)\n",
    "    writer.writerow([\"Crate Name\", \"Severity Label\", \"On lib.rs\"])\n",
    "    writer.writerows(results)\n",
    "\n",
    "print(f\"Output CSV created: {output_csv}\")\n"
   ]
  },
  {
   "cell_type": "code",
   "execution_count": null,
   "metadata": {},
   "outputs": [],
   "source": []
  }
 ],
 "metadata": {
  "kernelspec": {
   "display_name": ".venv",
   "language": "python",
   "name": "python3"
  },
  "language_info": {
   "codemirror_mode": {
    "name": "ipython",
    "version": 3
   },
   "file_extension": ".py",
   "mimetype": "text/x-python",
   "name": "python",
   "nbconvert_exporter": "python",
   "pygments_lexer": "ipython3",
   "version": "3.13.1"
  }
 },
 "nbformat": 4,
 "nbformat_minor": 2
}
