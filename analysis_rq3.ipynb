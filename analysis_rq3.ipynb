{
 "cells": [
  {
   "cell_type": "code",
   "execution_count": 6,
   "metadata": {},
   "outputs": [
    {
     "name": "stderr",
     "output_type": "stream",
     "text": [
      "Processing reports: 100%|██████████| 960/960 [14:13<00:00,  1.12it/s]"
     ]
    },
    {
     "name": "stdout",
     "output_type": "stream",
     "text": [
      "Output CSV created: filtered_crates.csv\n"
     ]
    },
    {
     "name": "stderr",
     "output_type": "stream",
     "text": [
      "\n"
     ]
    }
   ],
   "source": [
    "import os\n",
    "import re\n",
    "import csv\n",
    "import requests\n",
    "from tqdm import tqdm\n",
    "\n",
    "# === CONFIGURATION ===\n",
    "# Directory containing the tool output files.\n",
    "reports_dir = \"/Users/hassnain/Desktop/oopsla/cargo-sherlock/evaluation/rq3/random1000/\"\n",
    "\n",
    "# Output CSV file to create.\n",
    "output_csv = \"filtered_crates.csv\"\n",
    "\n",
    "# Base URL for checking presence on lib.rs\n",
    "lib_rs_base = \"https://lib.rs/crate/\"\n",
    "\n",
    "# Open the CSV file for writing and write the header.\n",
    "with open(output_csv, 'w', newline='') as csvfile:\n",
    "    writer = csv.writer(csvfile)\n",
    "    writer.writerow([\"Crate Name\", \"Severity Label\", \"On lib.rs\"])\n",
    "\n",
    "    # Process each report file and write the result immediately.\n",
    "    for filename in tqdm(os.listdir(reports_dir), desc=\"Processing reports\"):\n",
    "        file_path = os.path.join(reports_dir, filename)\n",
    "        # Skip if not a file.\n",
    "        if not os.path.isfile(file_path):\n",
    "            print(\"Invalid file:\", filename)\n",
    "            continue\n",
    "\n",
    "        with open(file_path, 'r') as f:\n",
    "            content = f.read()\n",
    "\n",
    "        # Extract the full crate name from a header line like:\n",
    "        # \"Analysis Report for bellande_rust_import-0.0.1\"\n",
    "        match = re.search(r'Analysis Report for (.+)', content)\n",
    "        if not match:\n",
    "            continue\n",
    "        full_crate = match.group(1).strip()\n",
    "\n",
    "        # Remove version suffix if present (assuming a pattern like -0.0.1)\n",
    "        match_version = re.match(r'^(.*)-(\\d+\\.\\d+\\.\\d+)$', full_crate)\n",
    "        crate_base = match_version.group(1) if match_version else full_crate\n",
    "\n",
    "        # Extract the severity label (e.g., \"Severity Label: CRITICAL\")\n",
    "        match_label = re.search(r'Severity Label:\\s*(\\S+)', content)\n",
    "        severity = match_label.group(1).strip() if match_label else \"UNKNOWN\"\n",
    "\n",
    "        # Check if the crate appears on lib.rs.\n",
    "        lib_rs_url = f\"{lib_rs_base}{crate_base}\"\n",
    "        try:\n",
    "            response = requests.get(lib_rs_url)\n",
    "            on_lib_rs = \"Yes\" if response.status_code == 200 else \"No\"\n",
    "        except Exception as e:\n",
    "            on_lib_rs = \"No\"\n",
    "\n",
    "        # Write the result row to the CSV.\n",
    "        writer.writerow([full_crate, severity, on_lib_rs])\n",
    "\n",
    "print(f\"Output CSV created: {output_csv}\")\n"
   ]
  },
  {
   "cell_type": "code",
   "execution_count": 7,
   "metadata": {},
   "outputs": [
    {
     "name": "stderr",
     "output_type": "stream",
     "text": [
      "Scanning reports: 100%|██████████| 960/960 [00:00<00:00, 23094.14it/s]"
     ]
    },
    {
     "name": "stdout",
     "output_type": "stream",
     "text": [
      "The following files do not contain the expected header:\n",
      "mdbook-trace-0.1.1\n",
      "pkg-utils-0.1.0\n",
      "bellhop-auth-header-0.2.1\n",
      "mdbook-tera-backend-0.0.1\n",
      "photon-indexer-0.50.0\n",
      "neo3-0.1.9\n",
      "iroh-docs-0.34.0\n",
      "emu_core-0.1.1\n",
      "mdbook-theme-0.1.6\n",
      "mdbook-tocjs-0.1.4\n",
      "bellhop-demo-0.2.1\n",
      "arecibo-0.1.1\n",
      "bellhop-hook-jenkins-0.2.1\n",
      "air-interpreter-data-0.17.2\n",
      "mdbook-toc-0.14.2\n",
      "bellhop-auth-dummy-0.2.1\n",
      "deathframe-0.5.1\n",
      "rarity-0.3.0\n",
      "iroh-blobs-0.34.0\n",
      "solana-install-1.18.26\n",
      "thebook-0.3.0\n",
      "bevy_light_field-0.8.0\n",
      "drt-tools-0.2.28\n",
      "iroh-doctor-0.33.0\n",
      "napi-package-template-0.1.0\n",
      "iroh-cli-0.28.1\n",
      "veryfi-1.0.0\n",
      "daleth_lsp-0.1.1\n",
      "bellhop-0.2.1\n",
      "emu_driver-0.1.0\n",
      "iroh-bitswap-0.2.0\n",
      "mdbook-tailwindcss-0.1.1\n",
      "dameng-helper-0.2.4\n",
      "mdbook-templates-0.1.0\n",
      "gwmp-mux-0.11.0\n",
      "gwdiff-1.0.0\n",
      "deb-rust-0.1.2\n",
      "mdbook-tag-0.0.2\n",
      "solana-include-idl-cli-0.1.0\n",
      "solana-test-validator-2.2.3\n",
      "neo4j-0.2.0\n",
      "nu_plugin_xpath-0.44.0\n",
      "nuance-0.3.2\n",
      "mdbook-tailor-0.8.2\n",
      "iroh-embed-0.2.0\n",
      "mdbook-tera-0.5.1\n",
      "iroh-0.34.0\n",
      "mdbook-tagger-0.2.0\n",
      "mdbook-tabs-0.2.1\n",
      "solana-tokens-2.2.3\n",
      "crulz-0.0.7\n",
      "vervolg-0.1.0\n",
      "iroh-dns-server-0.34.0\n",
      "arduino_nano_connect-0.7.0\n",
      "disarray-network-0.1.20\n",
      "air-execution-info-collector-0.7.14\n",
      "dalloriam-cloud-client-0.3.1\n",
      "mdbook-translation-0.1.1\n",
      "List of invalid files written to invalid_reports.txt.\n"
     ]
    },
    {
     "name": "stderr",
     "output_type": "stream",
     "text": [
      "\n"
     ]
    }
   ],
   "source": [
    "import os\n",
    "import re\n",
    "from tqdm import tqdm\n",
    "\n",
    "# === CONFIGURATION ===\n",
    "reports_dir = \"/Users/hassnain/Desktop/oopsla/cargo-sherlock/evaluation/rq3/random1000/\"\n",
    "# File to log invalid file names (optional)\n",
    "log_file = \"invalid_reports.txt\"\n",
    "\n",
    "# Expected header pattern\n",
    "pattern = re.compile(r'Analysis Report for (.+)')\n",
    "\n",
    "# List to hold names of files that don't match the pattern\n",
    "invalid_files = []\n",
    "\n",
    "# Iterate over all files in the reports directory.\n",
    "for filename in tqdm(os.listdir(reports_dir), desc=\"Scanning reports\"):\n",
    "    file_path = os.path.join(reports_dir, filename)\n",
    "    # Skip non-files\n",
    "    if not os.path.isfile(file_path):\n",
    "        continue\n",
    "    try:\n",
    "        with open(file_path, 'r') as f:\n",
    "            content = f.read()\n",
    "    except Exception as e:\n",
    "        print(f\"Error reading file {filename}: {e}\")\n",
    "        invalid_files.append(filename)\n",
    "        continue\n",
    "\n",
    "    if not pattern.search(content):\n",
    "        invalid_files.append(filename)\n",
    "\n",
    "# Print out the names of files that did not match the expected header.\n",
    "if invalid_files:\n",
    "    print(\"The following files do not contain the expected header:\")\n",
    "    for f in invalid_files:\n",
    "        print(f)\n",
    "else:\n",
    "    print(\"All files contain the expected header.\")\n",
    "\n",
    "# Optionally, write the list to a log file.\n",
    "with open(log_file, 'w') as f:\n",
    "    for name in invalid_files:\n",
    "        f.write(f\"{name}\\n\")\n",
    "print(f\"List of invalid files written to {log_file}.\")\n"
   ]
  },
  {
   "cell_type": "code",
   "execution_count": null,
   "metadata": {},
   "outputs": [],
   "source": []
  }
 ],
 "metadata": {
  "kernelspec": {
   "display_name": ".venv",
   "language": "python",
   "name": "python3"
  },
  "language_info": {
   "codemirror_mode": {
    "name": "ipython",
    "version": 3
   },
   "file_extension": ".py",
   "mimetype": "text/x-python",
   "name": "python",
   "nbconvert_exporter": "python",
   "pygments_lexer": "ipython3",
   "version": "3.13.1"
  }
 },
 "nbformat": 4,
 "nbformat_minor": 2
}
