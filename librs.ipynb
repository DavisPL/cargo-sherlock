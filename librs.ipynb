{
 "cells": [
  {
   "cell_type": "code",
   "execution_count": 1,
   "metadata": {},
   "outputs": [],
   "source": [
    "import pandas as pd\n",
    "import matplotlib.pyplot as plt\n"
   ]
  },
  {
   "cell_type": "code",
   "execution_count": null,
   "metadata": {},
   "outputs": [
    {
     "data": {
      "image/png": "[encoded data removed]",
      "text/plain": [
       "<Figure size 600x400 with 1 Axes>"
      ]
     },
     "metadata": {},
     "output_type": "display_data"
    }
   ],
   "source": [
    "\n",
    "csv_file = 'low_trust_crates_updated.csv'\n",
    "df = pd.read_csv(csv_file)\n",
    "\n",
    "librs_counts = df['librs'].value_counts()\n",
    "\n",
    "plt.figure(figsize=(6, 4))\n",
    "librs_counts.plot(kind='bar', color=['green', 'red'])\n",
    "plt.title('Count of Crates on lib.rs')\n",
    "plt.xlabel('lib.rs Presence')\n",
    "plt.ylabel('Count')\n",
    "plt.xticks(rotation=0)\n",
    "plt.tight_layout()\n",
    "plt.show()\n"
   ]
  },
  {
   "cell_type": "code",
   "execution_count": 3,
   "metadata": {},
   "outputs": [
    {
     "data": {
      "text/html": [
       "<div>\n",
       "<style scoped>\n",
       "    .dataframe tbody tr th:only-of-type {\n",
       "        vertical-align: middle;\n",
       "    }\n",
       "\n",
       "    .dataframe tbody tr th {\n",
       "        vertical-align: top;\n",
       "    }\n",
       "\n",
       "    .dataframe thead th {\n",
       "        text-align: right;\n",
       "    }\n",
       "</style>\n",
       "<table border=\"1\" class=\"dataframe\">\n",
       "  <thead>\n",
       "    <tr style=\"text-align: right;\">\n",
       "      <th></th>\n",
       "      <th>crate_name</th>\n",
       "      <th>version</th>\n",
       "      <th>trust_score</th>\n",
       "      <th>assumptions</th>\n",
       "      <th>librs</th>\n",
       "    </tr>\n",
       "  </thead>\n",
       "  <tbody>\n",
       "    <tr>\n",
       "      <th>20</th>\n",
       "      <td>ark-ed-on-bls12-377-ext</td>\n",
       "      <td>0.4.1</td>\n",
       "      <td>39</td>\n",
       "      <td>ark-ed-on-bls12-377-ext-0.4.1 has many downloa...</td>\n",
       "      <td>no</td>\n",
       "    </tr>\n",
       "    <tr>\n",
       "      <th>75</th>\n",
       "      <td>dming-risc0</td>\n",
       "      <td>0.1.0</td>\n",
       "      <td>1</td>\n",
       "      <td>dming-risc0-0.1.0 has all safe dependencies: 0...</td>\n",
       "      <td>no</td>\n",
       "    </tr>\n",
       "    <tr>\n",
       "      <th>89</th>\n",
       "      <td>ckb-build-info</td>\n",
       "      <td>0.119.0-rc2</td>\n",
       "      <td>25</td>\n",
       "      <td>ckb-build-info-0.119.0-rc2 has many stars and ...</td>\n",
       "      <td>no</td>\n",
       "    </tr>\n",
       "    <tr>\n",
       "      <th>119</th>\n",
       "      <td>dming-core</td>\n",
       "      <td>0.1.0</td>\n",
       "      <td>1</td>\n",
       "      <td>dming-core-0.1.0 has all safe dependencies: 0 ...</td>\n",
       "      <td>no</td>\n",
       "    </tr>\n",
       "    <tr>\n",
       "      <th>193</th>\n",
       "      <td>ark-ed-on-bls12-381-bandersnatch-ext</td>\n",
       "      <td>0.4.1</td>\n",
       "      <td>39</td>\n",
       "      <td>ark-ed-on-bls12-381-bandersnatch-ext-0.4.1 has...</td>\n",
       "      <td>no</td>\n",
       "    </tr>\n",
       "    <tr>\n",
       "      <th>201</th>\n",
       "      <td>cosmic_undo_2</td>\n",
       "      <td>0.2.0</td>\n",
       "      <td>13</td>\n",
       "      <td>cosmic_undo_2-0.2.0 has all safe dependencies:...</td>\n",
       "      <td>no</td>\n",
       "    </tr>\n",
       "    <tr>\n",
       "      <th>205</th>\n",
       "      <td>ckb-channel</td>\n",
       "      <td>0.119.0-rc2</td>\n",
       "      <td>25</td>\n",
       "      <td>ckb-channel-0.119.0-rc2 has many stars and for...</td>\n",
       "      <td>no</td>\n",
       "    </tr>\n",
       "  </tbody>\n",
       "</table>\n",
       "</div>"
      ],
      "text/plain": [
       "                               crate_name      version  trust_score  \\\n",
       "20                ark-ed-on-bls12-377-ext        0.4.1           39   \n",
       "75                            dming-risc0        0.1.0            1   \n",
       "89                         ckb-build-info  0.119.0-rc2           25   \n",
       "119                            dming-core        0.1.0            1   \n",
       "193  ark-ed-on-bls12-381-bandersnatch-ext        0.4.1           39   \n",
       "201                         cosmic_undo_2        0.2.0           13   \n",
       "205                           ckb-channel  0.119.0-rc2           25   \n",
       "\n",
       "                                           assumptions librs  \n",
       "20   ark-ed-on-bls12-377-ext-0.4.1 has many downloa...    no  \n",
       "75   dming-risc0-0.1.0 has all safe dependencies: 0...    no  \n",
       "89   ckb-build-info-0.119.0-rc2 has many stars and ...    no  \n",
       "119  dming-core-0.1.0 has all safe dependencies: 0 ...    no  \n",
       "193  ark-ed-on-bls12-381-bandersnatch-ext-0.4.1 has...    no  \n",
       "201  cosmic_undo_2-0.2.0 has all safe dependencies:...    no  \n",
       "205  ckb-channel-0.119.0-rc2 has many stars and for...    no  "
      ]
     },
     "execution_count": 3,
     "metadata": {},
     "output_type": "execute_result"
    }
   ],
   "source": [
    "df[df['librs'] == 'no']"
   ]
  },
  {
   "cell_type": "code",
   "execution_count": null,
   "metadata": {},
   "outputs": [],
   "source": [
    "# ckb_channel is a component of ckb , and ckb appears on lib.rs\n",
    "# cosmic_undo_2 appears on lib.rs - not sure why it's marked as no\n",
    "# ark-ed-on-bls12-381-bandersnatch-ext is Extensions for Bandersnatch curve defined over the scalar field of the BLS12-381 curve \n",
    "# dming-core --> cannot find this crate even on crates.io \n",
    "# ckb-build-info is a component of ckb , and ckb appears on lib.rs\n",
    "# ark-ed-on-bls12-377-ext - again some cryptographic library. \n",
    " "
   ]
  }
 ],
 "metadata": {
  "kernelspec": {
   "display_name": ".venv",
   "language": "python",
   "name": "python3"
  },
  "language_info": {
   "codemirror_mode": {
    "name": "ipython",
    "version": 3
   },
   "file_extension": ".py",
   "mimetype": "text/x-python",
   "name": "python",
   "nbconvert_exporter": "python",
   "pygments_lexer": "ipython3",
   "version": "3.13.2"
  }
 },
 "nbformat": 4,
 "nbformat_minor": 2
}
